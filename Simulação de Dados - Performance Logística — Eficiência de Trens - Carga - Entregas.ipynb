{
 "cells": [
  {
   "cell_type": "markdown",
   "id": "425762ec",
   "metadata": {},
   "source": [
    "Performance Logística — Eficiência de Trens / Carga / Entregas"
   ]
  },
  {
   "cell_type": "code",
   "execution_count": 1,
   "id": "63dfedb9",
   "metadata": {},
   "outputs": [],
   "source": [
    "import pandas as pd\n",
    "import numpy as np\n",
    "import random\n",
    "from datetime import datetime, timedelta\n",
    "\n",
    "np.random.seed(42)\n",
    "n = 300  # quantidade de operações simuladas\n",
    "\n",
    "data = pd.DataFrame({\n",
    "    \"id_operacao\": range(1, n+1),\n",
    "    \"data_operacao\": [datetime(2024,1,1) + timedelta(days=i%120) for i in range(n)],\n",
    "    \"id_trem\": np.random.randint(1, 8, n),\n",
    "    \"id_sb\": np.random.randint(1, 12, n),\n",
    "    \"tempo_transit\": np.random.uniform(5, 20, n),\n",
    "    \"tempo_parado\": np.random.uniform(1, 8, n),\n",
    "    \"capacidade_bruta\": np.random.uniform(800, 1500, n),\n",
    "    \"carga_transportada\": np.random.uniform(500, 1400, n),\n",
    "    \"km_percorrido\": np.random.uniform(50, 200, n),\n",
    "    \"anomalias\": np.random.randint(0, 4, n)\n",
    "})\n",
    "\n",
    "data[\"saturacao\"] = (data[\"carga_transportada\"] / data[\"capacidade_bruta\"]) * 100\n",
    "data[\"eficiencia_operacional\"] = (data[\"km_percorrido\"] / (data[\"tempo_transit\"] + data[\"tempo_parado\"])) * 10\n",
    "\n",
    "data.to_csv(\"fato_operacao_logistica.csv\", index=False)\n"
   ]
  },
  {
   "cell_type": "code",
   "execution_count": 2,
   "id": "0dff260e",
   "metadata": {},
   "outputs": [
    {
     "name": "stdout",
     "output_type": "stream",
     "text": [
      "Arquivo convertido salvo em: fato_operacao_logistica.csv\n"
     ]
    }
   ],
   "source": [
    "import pandas as pd\n",
    "\n",
    "# Caminho do arquivo original (exemplo)\n",
    "arquivo_original = \"fato_operacao_logistica.csv\"\n",
    "arquivo_convertido = \"fato_operacao_logistica.csv\"\n",
    "\n",
    "# Lê o CSV com separador de vírgula e ponto como decimal\n",
    "df = pd.read_csv(arquivo_original, sep=\",\", decimal=\".\")\n",
    "\n",
    "# Converte os números para string com vírgula como separador decimal\n",
    "df = df.map(lambda x: str(x).replace('.', ',') if isinstance(x, (int, float)) else x)\n",
    "\n",
    "# Salva o novo arquivo (mantendo o separador de coluna como vírgula)\n",
    "df.to_csv(arquivo_convertido, sep=\",\", index=False)\n",
    "\n",
    "print(\"Arquivo convertido salvo em:\", arquivo_convertido)\n"
   ]
  },
  {
   "cell_type": "markdown",
   "id": "2fdb3587",
   "metadata": {},
   "source": [
    "dim_trem"
   ]
  },
  {
   "cell_type": "code",
   "execution_count": 4,
   "id": "ed93c6bf",
   "metadata": {},
   "outputs": [],
   "source": [
    "dados = [\n",
    "    [1, \"RT-101\", \"GE AC44\", \"Rumo\"],\n",
    "    [2, \"RT-102\", \"GE Dash9\", \"Rumo\"],\n",
    "    [3, \"RT-103\", \"GE AC44\", \"Rumo\"],\n",
    "    [4, \"RT-104\", \"GE Dash9\", \"Rumo\"],\n",
    "    [5, \"RT-105\", \"GE AC44\", \"Rumo\"],\n",
    "    [6, \"RT-106\", \"GE AC44\", \"Rumo\"],\n",
    "    [7, \"RT-107\", \"GE Dash9\", \"Rumo\"]\n",
    "]\n"
   ]
  }
 ],
 "metadata": {
  "kernelspec": {
   "display_name": "base",
   "language": "python",
   "name": "python3"
  },
  "language_info": {
   "codemirror_mode": {
    "name": "ipython",
    "version": 3
   },
   "file_extension": ".py",
   "mimetype": "text/x-python",
   "name": "python",
   "nbconvert_exporter": "python",
   "pygments_lexer": "ipython3",
   "version": "3.12.7"
  }
 },
 "nbformat": 4,
 "nbformat_minor": 5
}
